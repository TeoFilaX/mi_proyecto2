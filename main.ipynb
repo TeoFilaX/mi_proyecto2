{
 "cells": [
  {
   "cell_type": "code",
   "execution_count": null,
   "id": "8a8187b3-a404-4fb5-b312-ce832e337de0",
   "metadata": {},
   "outputs": [],
   "source": []
  }
 ],
 "metadata": {
  "kernelspec": {
   "display_name": "",
   "name": ""
  },
  "language_info": {
   "name": ""
  }
 },
 "nbformat": 4,
 "nbformat_minor": 5
}
